{
 "cells": [
  {
   "cell_type": "markdown",
   "metadata": {},
   "source": [
    "We assume that both models will target customers accoding to the pareto principle (which will be supported by the logistic regression from task 3 (sigmoid can act as strengh valuator, over 80% assurance means high risk).\n",
    "\n",
    "Thus we have 80% low risk and 20% high risk customers.\n",
    "\n"
   ]
  },
  {
   "cell_type": "markdown",
   "metadata": {},
   "source": [
    "First month evaluations for model A"
   ]
  },
  {
   "cell_type": "code",
   "execution_count": 2,
   "metadata": {},
   "outputs": [
    {
     "data": {
      "text/plain": [
       "(5296.8, 1324.2)"
      ]
     },
     "execution_count": 2,
     "metadata": {},
     "output_type": "execute_result"
    }
   ],
   "source": [
    "model_A_total = 6621\n",
    "model_A_low_risk = model_A_total * 0.8\n",
    "model_A_high_risk = model_A_total * 0.2\n",
    "\n",
    "model_A_low_risk, model_A_high_risk"
   ]
  },
  {
   "cell_type": "markdown",
   "metadata": {},
   "source": [
    "Assuming 50 euro as contract price we get:\n",
    " "
   ]
  },
  {
   "cell_type": "code",
   "execution_count": 5,
   "metadata": {},
   "outputs": [],
   "source": [
    "low_risk_discount = 5  # 5 euro\n",
    "high_risk_discount = 10 # 10 euro"
   ]
  },
  {
   "cell_type": "code",
   "execution_count": 6,
   "metadata": {},
   "outputs": [
    {
     "data": {
      "text/plain": [
       "(26484.0, 13242.0, 39726.0)"
      ]
     },
     "execution_count": 6,
     "metadata": {},
     "output_type": "execute_result"
    }
   ],
   "source": [
    "first_month_A_low_risk = low_risk_discount * model_A_low_risk\n",
    "first_month_A_high_risk = high_risk_discount * model_A_high_risk\n",
    "\n",
    "first_month_A = first_month_A_high_risk + first_month_A_low_risk\n",
    "first_month_A_low_risk, first_month_A_high_risk, first_month_A"
   ]
  },
  {
   "cell_type": "markdown",
   "metadata": {},
   "source": [
    "First month evaluations for model B"
   ]
  },
  {
   "cell_type": "code",
   "execution_count": 8,
   "metadata": {},
   "outputs": [
    {
     "data": {
      "text/plain": [
       "(5114, 1278)"
      ]
     },
     "execution_count": 8,
     "metadata": {},
     "output_type": "execute_result"
    }
   ],
   "source": [
    "model_B_total = 2050 + 4343\n",
    "model_B_low_risk = model_B_total * 0.8\n",
    "model_B_high_risk = model_B_total * 0.2\n",
    "\n",
    "int(model_B_low_risk), int(model_B_high_risk)"
   ]
  },
  {
   "cell_type": "markdown",
   "metadata": {},
   "source": [
    "Same asumption of average 50euro per month for account contract holds here "
   ]
  },
  {
   "cell_type": "code",
   "execution_count": 9,
   "metadata": {},
   "outputs": [
    {
     "data": {
      "text/plain": [
       "(25572.000000000004, 12786.000000000002, 38358.00000000001)"
      ]
     },
     "execution_count": 9,
     "metadata": {},
     "output_type": "execute_result"
    }
   ],
   "source": [
    "first_month_B_low_risk = low_risk_discount * model_B_low_risk\n",
    "first_month_B_high_risk = high_risk_discount * model_B_high_risk\n",
    "\n",
    "first_month_B = first_month_B_high_risk + first_month_B_low_risk\n",
    "first_month_B_low_risk, first_month_B_high_risk, first_month_B"
   ]
  },
  {
   "cell_type": "markdown",
   "metadata": {},
   "source": [
    "For the first month expanses are:"
   ]
  },
  {
   "cell_type": "code",
   "execution_count": 11,
   "metadata": {},
   "outputs": [
    {
     "data": {
      "text/plain": [
       "(39726.0, 38358)"
      ]
     },
     "execution_count": 11,
     "metadata": {},
     "output_type": "execute_result"
    }
   ],
   "source": [
    "first_month_A, int(first_month_B)"
   ]
  },
  {
   "cell_type": "markdown",
   "metadata": {},
   "source": [
    "We assume that each 2 months 60% of customers will forget to renew their contracts (best case scenario) then "
   ]
  },
  {
   "cell_type": "code",
   "execution_count": 13,
   "metadata": {},
   "outputs": [],
   "source": [
    "def calc_total(monthly, pareto_scale=0.4):\n",
    "    return monthly + (monthly) + (monthly ** pareto_scale) + (monthly ** pareto_scale) + (monthly * pareto_scale**2) + (monthly * pareto_scale**2)"
   ]
  },
  {
   "cell_type": "code",
   "execution_count": 14,
   "metadata": {},
   "outputs": [
    {
     "data": {
      "text/plain": [
       "(92302.56834181439, 89126.88401788358)"
      ]
     },
     "execution_count": 14,
     "metadata": {},
     "output_type": "execute_result"
    }
   ],
   "source": [
    "overall_A = calc_total(first_month_A)\n",
    "overall_B = calc_total(first_month_B)\n",
    "overall_A, overall_B"
   ]
  },
  {
   "cell_type": "markdown",
   "metadata": {},
   "source": [
    "If we will assume that each month only 10% will forget to renew their contracts (worst case scenario) then"
   ]
  },
  {
   "cell_type": "code",
   "execution_count": 15,
   "metadata": {},
   "outputs": [
    {
     "data": {
      "text/plain": [
       "(171362.9255169513, 165555.28949577565)"
      ]
     },
     "execution_count": 15,
     "metadata": {},
     "output_type": "execute_result"
    }
   ],
   "source": [
    "overall_A = calc_total(first_month_A, 0.9)\n",
    "overall_B = calc_total(first_month_B, 0.9)\n",
    "overall_A, overall_B"
   ]
  },
  {
   "cell_type": "markdown",
   "metadata": {},
   "source": [
    "How many people will stay loyal? According to article [40 percent of US adults consider discounts as primary incentive]( https://www.emarketer.com/content/deals-drive-us-adults-sign-up-subscription-services) to subscribe to a service. Let's assume 30% of customers will be happy by the discounts for their contracts.\n",
    "\n",
    "We take the true positive amount of customers from each models (these are the ones which really wanted to leave) and assume 30% will stay."
   ]
  },
  {
   "cell_type": "code",
   "execution_count": 22,
   "metadata": {},
   "outputs": [],
   "source": [
    "model_A_TP = 1978\n",
    "model_B_TP = 2050"
   ]
  },
  {
   "cell_type": "code",
   "execution_count": 23,
   "metadata": {},
   "outputs": [
    {
     "data": {
      "text/plain": [
       "(593.4, 615.0)"
      ]
     },
     "execution_count": 23,
     "metadata": {},
     "output_type": "execute_result"
    }
   ],
   "source": [
    "model_A_customers = model_A_TP * 0.3\n",
    "model_B_customers = model_B_TP * 0.3\n",
    "\n",
    "\n",
    "model_A_customers, model_B_customers # in thounsands  "
   ]
  }
 ],
 "metadata": {
  "kernelspec": {
   "display_name": "base",
   "language": "python",
   "name": "python3"
  },
  "language_info": {
   "codemirror_mode": {
    "name": "ipython",
    "version": 3
   },
   "file_extension": ".py",
   "mimetype": "text/x-python",
   "name": "python",
   "nbconvert_exporter": "python",
   "pygments_lexer": "ipython3",
   "version": "3.11.6"
  }
 },
 "nbformat": 4,
 "nbformat_minor": 2
}
